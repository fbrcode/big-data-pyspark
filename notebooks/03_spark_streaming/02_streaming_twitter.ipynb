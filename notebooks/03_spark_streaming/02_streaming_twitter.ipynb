{
 "cells": [
  {
   "cell_type": "markdown",
   "id": "bd2e4320",
   "metadata": {},
   "source": [
    "# Twitter Streaming"
   ]
  },
  {
   "cell_type": "markdown",
   "id": "a51094b1",
   "metadata": {},
   "source": [
    "Create a simple application that plots out the popularity of tags associated with incoming tweets streamed live from Twitter\n",
    "\n",
    "### Steps\n",
    "\n",
    "1. Start going to <https://developer.twitter.com> and create a Twitter Developer Account to get our access codes\n",
    "  1. Click: Create and App\n",
    "  2. Get get the `TWITTER_ACCESS_TOKEN` and `TWITTER_ACCESS_TOKEN_SECRET`\n",
    "2. Install the tweepy library as well as matplotlib and seaborn\n",
    "  1. In you virtual environment or virtual box, run \n",
    "    1. `pip install tweepy`\n",
    "    2. `pip install matplotlib`\n",
    "    3. `pip install seaborn`\n"
   ]
  },
  {
   "cell_type": "code",
   "execution_count": null,
   "id": "ea26bce5",
   "metadata": {},
   "outputs": [],
   "source": [
    "import tweepy\n",
    "from tweepy import OAuthHandler,Stream"
   ]
  },
  {
   "cell_type": "code",
   "execution_count": null,
   "id": "7521f710",
   "metadata": {},
   "outputs": [],
   "source": [
    "from tweepy.streaming import Stream\n",
    "import socket\n",
    "import json"
   ]
  },
  {
   "cell_type": "code",
   "execution_count": null,
   "id": "a6993e43",
   "metadata": {},
   "outputs": [],
   "source": [
    "consumer_key = ''\n",
    "consumer_secret = ''\n",
    "access_token = ''\n",
    "access_secret = ''"
   ]
  },
  {
   "cell_type": "code",
   "execution_count": null,
   "id": "9698cc9d",
   "metadata": {},
   "outputs": [],
   "source": [
    "class TweetListener(Stream):\n",
    "    \n",
    "    def __init__(self,csocket):\n",
    "        self.client_socket = csocket\n",
    "        \n",
    "    def on_data(self,data):\n",
    "        try:\n",
    "            msg = json.loads(data)\n",
    "            encoded_msg = msg['text'].encode('utf-8')\n",
    "            print(encoded_msg)\n",
    "            self.client_socketsend(encoded_msg)\n",
    "            return True\n",
    "        except BaseException as e:\n",
    "            print('ERROR ',e)\n",
    "        return True\n",
    "    \n",
    "    def on_error(self,stat):\n",
    "        print(status)\n",
    "        return True"
   ]
  },
  {
   "cell_type": "code",
   "execution_count": null,
   "id": "19569d94",
   "metadata": {},
   "outputs": [],
   "source": [
    "def sendData(c_socket):\n",
    "    auth = OAuthHandler(consumer_key, consumer_secret)\n",
    "    auth.set_access_token(access_token, access_secret)\n",
    "    \n",
    "    twitter_stream = Stream(auth,TweetListener(c_socket))\n",
    "    twitter_stream.filter(track=['blockchain'])"
   ]
  },
  {
   "cell_type": "code",
   "execution_count": null,
   "id": "040854ff",
   "metadata": {},
   "outputs": [],
   "source": [
    "if __name__ == '__main__':\n",
    "    s = socket.socket()\n",
    "    host = '127.0.0.1'\n",
    "    port = 5555\n",
    "    s.bind((host, port))\n",
    "    \n",
    "    print('listening on {}:{}'.format(host, port))\n",
    "    s.listen(5)\n",
    "    c,addr = s.accept()\n",
    "    \n",
    "    sendData(c)"
   ]
  }
 ],
 "metadata": {
  "kernelspec": {
   "display_name": "Python 3.9.12 ('env': venv)",
   "language": "python",
   "name": "python3"
  },
  "language_info": {
   "codemirror_mode": {
    "name": "ipython",
    "version": 3
   },
   "file_extension": ".py",
   "mimetype": "text/x-python",
   "name": "python",
   "nbconvert_exporter": "python",
   "pygments_lexer": "ipython3",
   "version": "3.9.12"
  },
  "vscode": {
   "interpreter": {
    "hash": "6ecf9f95d01a9d21d0d09c38857d004dab27ff1277e9348e3947dfc6c89bd208"
   }
  }
 },
 "nbformat": 4,
 "nbformat_minor": 5
}
